{
 "cells": [
  {
   "cell_type": "code",
   "execution_count": 1,
   "metadata": {},
   "outputs": [],
   "source": [
    "%matplotlib inline"
   ]
  },
  {
   "cell_type": "code",
   "execution_count": 17,
   "metadata": {},
   "outputs": [],
   "source": [
    "import numpy as np\n",
    "import pandas as pd\n",
    "import matplotlib.pyplot as plt\n",
    "import tensorflow as tf\n",
    "\n",
    "from tensorflow.keras.models import Sequential\n",
    "from tensorflow.keras.layers import Input, Dense, Flatten, Dropout, Conv1D, Reshape, GRU, LSTM, SimpleRNN, Bidirectional\n",
    "from tensorflow.keras.regularizers import L1, L2, L1L2\n",
    "from tensorflow.keras.datasets import mnist\n",
    "from tensorflow.keras.callbacks import TensorBoard\n",
    "from tensorflow.keras.applications.vgg19 import VGG19\n",
    "from tensorflow.keras.preprocessing.image import ImageDataGenerator"
   ]
  },
  {
   "attachments": {},
   "cell_type": "markdown",
   "metadata": {},
   "source": [
    "# Natural Language Processing"
   ]
  },
  {
   "cell_type": "code",
   "execution_count": 9,
   "metadata": {},
   "outputs": [
    {
     "name": "stdout",
     "output_type": "stream",
     "text": [
      "WARNING:tensorflow:From f:\\DR\\Stock-Market-Prediction\\venv\\lib\\site-packages\\keras\\src\\optimizers\\__init__.py:309: The name tf.train.Optimizer is deprecated. Please use tf.compat.v1.train.Optimizer instead.\n",
      "\n",
      "Model: \"sequential_4\"\n",
      "_________________________________________________________________\n",
      " Layer (type)                Output Shape              Param #   \n",
      "=================================================================\n",
      " simple_rnn_6 (SimpleRNN)    (None, 50, 64)            4480      \n",
      "                                                                 \n",
      " simple_rnn_7 (SimpleRNN)    (None, 50, 64)            8256      \n",
      "                                                                 \n",
      " simple_rnn_8 (SimpleRNN)    (None, 50, 32)            3104      \n",
      "                                                                 \n",
      " flatten_4 (Flatten)         (None, 1600)              0         \n",
      "                                                                 \n",
      " dense_8 (Dense)             (None, 42)                67242     \n",
      "                                                                 \n",
      " dense_9 (Dense)             (None, 1000)              43000     \n",
      "                                                                 \n",
      "=================================================================\n",
      "Total params: 126082 (492.51 KB)\n",
      "Trainable params: 126082 (492.51 KB)\n",
      "Non-trainable params: 0 (0.00 Byte)\n",
      "_________________________________________________________________\n"
     ]
    }
   ],
   "source": [
    "rnn = Sequential([\n",
    "    Input(shape=(50, 5)),\n",
    "    SimpleRNN(64, return_sequences=True),\n",
    "    SimpleRNN(64, return_sequences=True),\n",
    "    SimpleRNN(32, return_sequences=True),\n",
    "    Flatten(),\n",
    "\n",
    "    Dense(42, activation=\"relu\"),\n",
    "    Dense(1000, activation=\"softmax\")\n",
    "])\n",
    "\n",
    "rnn.compile(loss=\"sparse_categorical_entropy\")\n",
    "\n",
    "rnn.summary()\n"
   ]
  },
  {
   "cell_type": "code",
   "execution_count": 10,
   "metadata": {},
   "outputs": [
    {
     "name": "stdout",
     "output_type": "stream",
     "text": [
      "Model: \"sequential_5\"\n",
      "_________________________________________________________________\n",
      " Layer (type)                Output Shape              Param #   \n",
      "=================================================================\n",
      " conv1d_6 (Conv1D)           (None, 48, 64)            1024      \n",
      "                                                                 \n",
      " conv1d_7 (Conv1D)           (None, 46, 64)            12352     \n",
      "                                                                 \n",
      " conv1d_8 (Conv1D)           (None, 44, 32)            6176      \n",
      "                                                                 \n",
      " flatten_5 (Flatten)         (None, 1408)              0         \n",
      "                                                                 \n",
      " dense_10 (Dense)            (None, 42)                59178     \n",
      "                                                                 \n",
      " dense_11 (Dense)            (None, 1000)              43000     \n",
      "                                                                 \n",
      "=================================================================\n",
      "Total params: 121730 (475.51 KB)\n",
      "Trainable params: 121730 (475.51 KB)\n",
      "Non-trainable params: 0 (0.00 Byte)\n",
      "_________________________________________________________________\n"
     ]
    }
   ],
   "source": [
    "conv_nn = Sequential([\n",
    "    Input(shape=(50, 5)),\n",
    "    Conv1D(64, kernel_size=3, activation=\"relu\"),\n",
    "    Conv1D(64, kernel_size=3, activation=\"relu\"),\n",
    "    Conv1D(32, kernel_size=3, activation=\"relu\"),\n",
    "    Flatten(),\n",
    "\n",
    "    Dense(42, activation=\"relu\"),\n",
    "    Dense(1000, activation=\"softmax\")\n",
    "])\n",
    "\n",
    "conv_nn.summary()"
   ]
  },
  {
   "cell_type": "code",
   "execution_count": 13,
   "metadata": {},
   "outputs": [
    {
     "name": "stdout",
     "output_type": "stream",
     "text": [
      "Model: \"sequential_7\"\n",
      "_________________________________________________________________\n",
      " Layer (type)                Output Shape              Param #   \n",
      "=================================================================\n",
      " gru_1 (GRU)                 (None, 50, 20)            1620      \n",
      "                                                                 \n",
      "=================================================================\n",
      "Total params: 1620 (6.33 KB)\n",
      "Trainable params: 1620 (6.33 KB)\n",
      "Non-trainable params: 0 (0.00 Byte)\n",
      "_________________________________________________________________\n"
     ]
    }
   ],
   "source": [
    "gru = Sequential([\n",
    "    Input(shape=(50, 5)),\n",
    "    GRU(20, return_sequences=True)\n",
    "])\n",
    "\n",
    "gru.summary()"
   ]
  },
  {
   "cell_type": "code",
   "execution_count": 16,
   "metadata": {},
   "outputs": [
    {
     "name": "stdout",
     "output_type": "stream",
     "text": [
      "Model: \"sequential_8\"\n",
      "_________________________________________________________________\n",
      " Layer (type)                Output Shape              Param #   \n",
      "=================================================================\n",
      " lstm (LSTM)                 (None, 50, 20)            2080      \n",
      "                                                                 \n",
      "=================================================================\n",
      "Total params: 2080 (8.12 KB)\n",
      "Trainable params: 2080 (8.12 KB)\n",
      "Non-trainable params: 0 (0.00 Byte)\n",
      "_________________________________________________________________\n"
     ]
    }
   ],
   "source": [
    "lstm = Sequential([\n",
    "    Input(shape=(50, 5)),\n",
    "    LSTM(20, return_sequences=True, go_backwards=True)\n",
    "])\n",
    "\n",
    "lstm.summary()"
   ]
  },
  {
   "cell_type": "code",
   "execution_count": 21,
   "metadata": {},
   "outputs": [
    {
     "name": "stdout",
     "output_type": "stream",
     "text": [
      "Model: \"sequential_11\"\n",
      "_________________________________________________________________\n",
      " Layer (type)                Output Shape              Param #   \n",
      "=================================================================\n",
      " bidirectional_6 (Bidirecti  (None, 50, 20)            4160      \n",
      " onal)                                                           \n",
      "                                                                 \n",
      " bidirectional_7 (Bidirecti  (None, 40)                5800      \n",
      " onal)                                                           \n",
      "                                                                 \n",
      "=================================================================\n",
      "Total params: 9960 (38.91 KB)\n",
      "Trainable params: 9960 (38.91 KB)\n",
      "Non-trainable params: 0 (0.00 Byte)\n",
      "_________________________________________________________________\n"
     ]
    }
   ],
   "source": [
    "bidirectional_model = Sequential([\n",
    "    Input(shape=(50, 5)),\n",
    "    Bidirectional(LSTM(20, return_sequences=True), merge_mode=\"sum\"),\n",
    "    Bidirectional(LSTM(20), backward_layer=GRU(20, go_backwards=True)),\n",
    "])\n",
    "\n",
    "bidirectional_model.summary()"
   ]
  }
 ],
 "metadata": {
  "kernelspec": {
   "display_name": "venv",
   "language": "python",
   "name": "python3"
  },
  "language_info": {
   "codemirror_mode": {
    "name": "ipython",
    "version": 3
   },
   "file_extension": ".py",
   "mimetype": "text/x-python",
   "name": "python",
   "nbconvert_exporter": "python",
   "pygments_lexer": "ipython3",
   "version": "3.10.9"
  },
  "orig_nbformat": 4,
  "vscode": {
   "interpreter": {
    "hash": "73f5850e139343e7d56cdbfd592890725b73c7b65ece657753fc54e096f228ca"
   }
  }
 },
 "nbformat": 4,
 "nbformat_minor": 2
}
